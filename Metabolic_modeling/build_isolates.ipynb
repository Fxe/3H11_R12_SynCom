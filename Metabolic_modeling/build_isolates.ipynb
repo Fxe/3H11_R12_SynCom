{
 "cells": [
  {
   "cell_type": "code",
   "execution_count": 4,
   "id": "224fdb1a-588d-43bf-90aa-483129288046",
   "metadata": {},
   "outputs": [],
   "source": [
    "import os\n",
    "import cobra\n",
    "os.environ['HOME'] = 'S:/'\n",
    "%run ms_ext_symcom.py"
   ]
  },
  {
   "cell_type": "code",
   "execution_count": 5,
   "id": "d58e291a-79f3-4b4f-88c8-0c2efa625ca4",
   "metadata": {},
   "outputs": [],
   "source": [
    "from cobrakbase.io.read_kbase_zip import load_kbase_zip_object\n",
    "template = load_kbase_zip_object('./data/GramNegModelTemplateV5_DNR_v2.JSON.zip')\n",
    "template.reactions.rxn14415_c.lower_bound = 0\n",
    "genome_rhoda = load_genome_from_annotation_file('./data/annotation_rhoda.tsv')\n",
    "genome_acido = load_genome_from_annotation_file('./data/annotation_acido.tsv')\n",
    "\n",
    "project = SynComStudy(template)\n",
    "project.genome_acido = genome_acido\n",
    "project.genome_rhoda = genome_rhoda"
   ]
  },
  {
   "cell_type": "code",
   "execution_count": 6,
   "id": "de9a84cb-666c-4af8-921d-259073873c4b",
   "metadata": {},
   "outputs": [
    {
     "name": "stderr",
     "output_type": "stream",
     "text": [
      "INFO:modelseedpy.core.msatpcorrection:max_gapfilling: 10, best_score: 0.0\n",
      "INFO:modelseedpy.core.msmodelutl:Expansion time:empty:0.008053999976255\n",
      "INFO:modelseedpy.core.msmodelutl:Filtered count:0 out of 0\n",
      "INFO:modelseedpy.core.msmodelutl:Expansion time:nitrate:0.008811399980913848\n",
      "INFO:modelseedpy.core.msmodelutl:Filtered count:0 out of 0\n"
     ]
    },
    {
     "name": "stdout",
     "output_type": "stream",
     "text": [
      "gapfill reactions 32 new exchanges 4\n"
     ]
    },
    {
     "name": "stderr",
     "output_type": "stream",
     "text": [
      "INFO:modelseedpy.core.msatpcorrection:max_gapfilling: 10, best_score: 0.0\n",
      "INFO:modelseedpy.core.msmodelutl:Expansion time:empty:0.008882499998435378\n",
      "INFO:modelseedpy.core.msmodelutl:Filtered count:0 out of 0\n",
      "INFO:modelseedpy.core.msmodelutl:Expansion time:nitrate:0.007817800040356815\n",
      "INFO:modelseedpy.core.msmodelutl:Filtered count:0 out of 0\n"
     ]
    },
    {
     "name": "stdout",
     "output_type": "stream",
     "text": [
      "gapfill reactions 38 new exchanges 3\n",
      "[R12] added L-Leucine [e0]\n",
      "[R12] added ABC Transporter (L-Leucine) [c0]\n",
      "[3H11] added LeuE\n"
     ]
    }
   ],
   "source": [
    "model_acido, model_rhoda = project.build_isolates()"
   ]
  },
  {
   "cell_type": "code",
   "execution_count": 7,
   "id": "1329bc14-69a9-4607-9824-1a18fb9ccf45",
   "metadata": {},
   "outputs": [],
   "source": [
    "cobra.io.save_json_model(model_acido, './data/model_acido_gf.json')\n",
    "cobra.io.save_json_model(model_rhoda, './data/model_rhoda_gf.json')"
   ]
  },
  {
   "cell_type": "code",
   "execution_count": null,
   "id": "46bf12c8-56b8-4121-bba3-afb36992c4ec",
   "metadata": {},
   "outputs": [],
   "source": []
  }
 ],
 "metadata": {
  "kernelspec": {
   "display_name": "modelseed",
   "language": "python",
   "name": "modelseed"
  },
  "language_info": {
   "codemirror_mode": {
    "name": "ipython",
    "version": 3
   },
   "file_extension": ".py",
   "mimetype": "text/x-python",
   "name": "python",
   "nbconvert_exporter": "python",
   "pygments_lexer": "ipython3",
   "version": "3.11.0"
  }
 },
 "nbformat": 4,
 "nbformat_minor": 5
}
