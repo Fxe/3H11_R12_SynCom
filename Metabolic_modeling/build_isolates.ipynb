{
 "cells": [
  {
   "cell_type": "code",
   "execution_count": 1,
   "id": "224fdb1a-588d-43bf-90aa-483129288046",
   "metadata": {
    "tags": []
   },
   "outputs": [
    {
     "name": "stdout",
     "output_type": "stream",
     "text": [
      "modelseedpy 0.3.3\n"
     ]
    }
   ],
   "source": [
    "import os\n",
    "import cobra\n",
    "if not 'HOME' in os.environ:\n",
    "    os.environ['HOME'] = '.' # set your HOME path if not found (windows OS)\n",
    "%run ms_ext_symcom.py"
   ]
  },
  {
   "cell_type": "code",
   "execution_count": 2,
   "id": "d58e291a-79f3-4b4f-88c8-0c2efa625ca4",
   "metadata": {
    "tags": []
   },
   "outputs": [
    {
     "name": "stdout",
     "output_type": "stream",
     "text": [
      "cobrakbase 0.3.1\n"
     ]
    }
   ],
   "source": [
    "from cobrakbase.io.read_kbase_zip import load_kbase_zip_object\n",
    "template = load_kbase_zip_object('./data/GramNegModelTemplateV5_DNR_v2.JSON.zip')\n",
    "template.reactions.rxn14415_c.lower_bound = 0\n",
    "genome_rhoda = load_genome_from_annotation_file('./data/annotation_rhoda.tsv')\n",
    "genome_acido = load_genome_from_annotation_file('./data/annotation_acido.tsv')\n",
    "\n",
    "project = SynComStudy(template)\n",
    "project.genome_acido = genome_acido\n",
    "project.genome_rhoda = genome_rhoda"
   ]
  },
  {
   "cell_type": "code",
   "execution_count": 3,
   "id": "de9a84cb-666c-4af8-921d-259073873c4b",
   "metadata": {
    "tags": []
   },
   "outputs": [
    {
     "name": "stdout",
     "output_type": "stream",
     "text": [
      "Set parameter TSPort to value 27070\n",
      "Set parameter TokenServer to value \"lic-vmw-01.cels.anl.gov\"\n"
     ]
    },
    {
     "name": "stderr",
     "output_type": "stream",
     "text": [
      "/opt/env/python3_10_modelseed/lib/python3.10/site-packages/optlang/gurobi_interface.py:728: DeprecationWarning: Deprecated, pass a TempConstr or use Model.addLConstr\n",
      "  self.problem.addConstr(lhs, sense, rhs, name=constraint.name)\n",
      "/opt/env/python3_10_modelseed/lib/python3.10/site-packages/optlang/gurobi_interface.py:728: DeprecationWarning: Deprecated, pass a TempConstr or use Model.addLConstr\n",
      "  self.problem.addConstr(lhs, sense, rhs, name=constraint.name)\n",
      "/opt/env/python3_10_modelseed/lib/python3.10/site-packages/optlang/gurobi_interface.py:728: DeprecationWarning: Deprecated, pass a TempConstr or use Model.addLConstr\n",
      "  self.problem.addConstr(lhs, sense, rhs, name=constraint.name)\n",
      "/opt/env/python3_10_modelseed/lib/python3.10/site-packages/optlang/gurobi_interface.py:728: DeprecationWarning: Deprecated, pass a TempConstr or use Model.addLConstr\n",
      "  self.problem.addConstr(lhs, sense, rhs, name=constraint.name)\n"
     ]
    },
    {
     "name": "stdout",
     "output_type": "stream",
     "text": [
      "Read LP format model from file /tmp/tmp0bsm0hg9.lp\n",
      "Reading time = 0.01 seconds\n",
      ": 1264 rows, 2648 columns, 11862 nonzeros\n"
     ]
    },
    {
     "name": "stderr",
     "output_type": "stream",
     "text": [
      "INFO:modelseedpy.core.msatpcorrection:max_gapfilling: 10, best_score: 0.0\n",
      "INFO:modelseedpy.core.msmodelutl:Expansion time:empty:0.05428454093635082\n",
      "INFO:modelseedpy.core.msmodelutl:Filtered count:0 out of 0\n",
      "INFO:modelseedpy.core.msmodelutl:Expansion time:nitrate:0.050472076050937176\n",
      "INFO:modelseedpy.core.msmodelutl:Filtered count:0 out of 0\n",
      "/opt/env/python3_10_modelseed/lib/python3.10/site-packages/optlang/gurobi_interface.py:728: DeprecationWarning: Deprecated, pass a TempConstr or use Model.addLConstr\n",
      "  self.problem.addConstr(lhs, sense, rhs, name=constraint.name)\n",
      "/opt/env/python3_10_modelseed/lib/python3.10/site-packages/optlang/gurobi_interface.py:728: DeprecationWarning: Deprecated, pass a TempConstr or use Model.addLConstr\n",
      "  self.problem.addConstr(lhs, sense, rhs, name=constraint.name)\n",
      "/opt/env/python3_10_modelseed/lib/python3.10/site-packages/optlang/gurobi_interface.py:728: DeprecationWarning: Deprecated, pass a TempConstr or use Model.addLConstr\n",
      "  self.problem.addConstr(lhs, sense, rhs, name=constraint.name)\n"
     ]
    },
    {
     "name": "stdout",
     "output_type": "stream",
     "text": [
      "gapfill reactions 33 new exchanges 4\n"
     ]
    },
    {
     "name": "stderr",
     "output_type": "stream",
     "text": [
      "/opt/env/python3_10_modelseed/lib/python3.10/site-packages/optlang/gurobi_interface.py:728: DeprecationWarning: Deprecated, pass a TempConstr or use Model.addLConstr\n",
      "  self.problem.addConstr(lhs, sense, rhs, name=constraint.name)\n",
      "/opt/env/python3_10_modelseed/lib/python3.10/site-packages/optlang/gurobi_interface.py:728: DeprecationWarning: Deprecated, pass a TempConstr or use Model.addLConstr\n",
      "  self.problem.addConstr(lhs, sense, rhs, name=constraint.name)\n"
     ]
    },
    {
     "name": "stdout",
     "output_type": "stream",
     "text": [
      "Read LP format model from file /tmp/tmpz81f5xhg.lp\n",
      "Reading time = 0.01 seconds\n",
      ": 1183 rows, 2542 columns, 11132 nonzeros\n"
     ]
    },
    {
     "name": "stderr",
     "output_type": "stream",
     "text": [
      "INFO:modelseedpy.core.msatpcorrection:max_gapfilling: 10, best_score: 0.0\n",
      "INFO:modelseedpy.core.msmodelutl:Expansion time:empty:0.032984379678964615\n",
      "INFO:modelseedpy.core.msmodelutl:Filtered count:0 out of 0\n",
      "INFO:modelseedpy.core.msmodelutl:Expansion time:nitrate:0.04921980109065771\n",
      "INFO:modelseedpy.core.msmodelutl:Filtered count:0 out of 0\n",
      "/opt/env/python3_10_modelseed/lib/python3.10/site-packages/optlang/gurobi_interface.py:728: DeprecationWarning: Deprecated, pass a TempConstr or use Model.addLConstr\n",
      "  self.problem.addConstr(lhs, sense, rhs, name=constraint.name)\n"
     ]
    },
    {
     "name": "stdout",
     "output_type": "stream",
     "text": [
      "gapfill reactions 38 new exchanges 3\n",
      "[R12] added L-Leucine [e0]\n",
      "[R12] added ABC Transporter (L-Leucine) [c0]\n",
      "[3H11] added LeuE\n",
      "R12 Nitrate [c0] + Ubiquinol-8 [c0] --> H2O [c0] + Nitrite [c0] + Ubiquinone-8 [c0]\n",
      "3H11 2 H+ [c0] + Nitrate [c0] + Ubiquinol-8 [c0] --> H2O [c0] + 2 H+ [e0] + Nitrite [c0] + Ubiquinone-8 [c0]\n"
     ]
    },
    {
     "name": "stderr",
     "output_type": "stream",
     "text": [
      "/opt/env/python3_10_modelseed/lib/python3.10/site-packages/optlang/gurobi_interface.py:728: DeprecationWarning: Deprecated, pass a TempConstr or use Model.addLConstr\n",
      "  self.problem.addConstr(lhs, sense, rhs, name=constraint.name)\n",
      "/opt/env/python3_10_modelseed/lib/python3.10/site-packages/optlang/gurobi_interface.py:728: DeprecationWarning: Deprecated, pass a TempConstr or use Model.addLConstr\n",
      "  self.problem.addConstr(lhs, sense, rhs, name=constraint.name)\n"
     ]
    }
   ],
   "source": [
    "model_acido, model_rhoda = project.build_isolates()"
   ]
  },
  {
   "cell_type": "code",
   "execution_count": 4,
   "id": "1329bc14-69a9-4607-9824-1a18fb9ccf45",
   "metadata": {
    "tags": []
   },
   "outputs": [],
   "source": [
    "cobra.io.save_json_model(model_acido, './data/model_acido_gf.json')\n",
    "cobra.io.save_json_model(model_rhoda, './data/model_rhoda_gf.json')"
   ]
  },
  {
   "cell_type": "code",
   "execution_count": null,
   "id": "46bf12c8-56b8-4121-bba3-afb36992c4ec",
   "metadata": {},
   "outputs": [],
   "source": []
  }
 ],
 "metadata": {
  "kernelspec": {
   "display_name": "COBRA cplex",
   "language": "python",
   "name": "modelseed_cplex"
  },
  "language_info": {
   "codemirror_mode": {
    "name": "ipython",
    "version": 3
   },
   "file_extension": ".py",
   "mimetype": "text/x-python",
   "name": "python",
   "nbconvert_exporter": "python",
   "pygments_lexer": "ipython3",
   "version": "3.10.12"
  }
 },
 "nbformat": 4,
 "nbformat_minor": 5
}
