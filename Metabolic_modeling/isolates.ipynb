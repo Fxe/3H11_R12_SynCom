{
 "cells": [
  {
   "cell_type": "code",
   "execution_count": 1,
   "id": "5a2d8bad-ae56-4b7a-be27-49d97332d424",
   "metadata": {
    "tags": []
   },
   "outputs": [
    {
     "name": "stdout",
     "output_type": "stream",
     "text": [
      "modelseedpy 0.4.0\n"
     ]
    }
   ],
   "source": [
    "import cobra\n",
    "import pandas as pd\n",
    "import modelseedpy"
   ]
  },
  {
   "cell_type": "code",
   "execution_count": 2,
   "id": "56986bba-7bf8-41b2-ae08-aac532e2061b",
   "metadata": {
    "tags": []
   },
   "outputs": [
    {
     "name": "stdout",
     "output_type": "stream",
     "text": [
      "Set parameter TSPort to value 27070\n",
      "Set parameter TokenServer to value \"lic-vmw-01.cels.anl.gov\"\n"
     ]
    }
   ],
   "source": [
    "model_rhoda = cobra.io.load_json_model('./data/model_rhoda_gf2.json')\n",
    "model_acido = cobra.io.load_json_model('./data/model_acido_gf2.json')"
   ]
  },
  {
   "cell_type": "code",
   "execution_count": 4,
   "id": "cfc34664-e7f1-426b-9147-375479dbd0e0",
   "metadata": {
    "tags": []
   },
   "outputs": [],
   "source": [
    "MEDIA_ACETATE_NITRATE = {\n",
    "    'EX_cpd00067_e0': 100.0,\n",
    "    'EX_cpd00058_e0': 100.0,\n",
    "    'EX_cpd00971_e0': 34.9324073,\n",
    "    'EX_cpd00013_e0': 100.0,\n",
    "    'EX_cpd00205_e0': 1.3415688,\n",
    "    'EX_cpd00009_e0': 100.0,\n",
    "    'EX_cpd11574_e0': 100.0,\n",
    "    'EX_cpd00048_e0': 100.0,\n",
    "    'EX_cpd00030_e0': 100.0,\n",
    "    'EX_cpd00209_e0': 10.0,\n",
    "    'EX_cpd00254_e0': 100.0,\n",
    "    'EX_cpd10515_e0': 100.0,\n",
    "    'EX_cpd00149_e0': 100.0,\n",
    "    'EX_cpd00099_e0': 100.0,\n",
    "    'EX_cpd00001_e0': 100.0,\n",
    "    'EX_cpd00029_e0': 20.0,\n",
    "    'EX_cpd00063_e0': 100.0,\n",
    "    'EX_cpd00034_e0': 100.0,\n",
    "    'EX_cpd00305_e0': 100.0\n",
    "}"
   ]
  },
  {
   "cell_type": "code",
   "execution_count": 5,
   "id": "3bf6f214-6fde-40b0-a2f2-b86cae11659a",
   "metadata": {
    "tags": []
   },
   "outputs": [],
   "source": [
    "model_rhoda.medium = MEDIA_ACETATE_NITRATE\n",
    "model_acido.medium = MEDIA_ACETATE_NITRATE"
   ]
  },
  {
   "cell_type": "code",
   "execution_count": 6,
   "id": "c07bebac-b62e-4641-9c85-1ebd9979310f",
   "metadata": {
    "tags": []
   },
   "outputs": [],
   "source": [
    "model_acido.reactions.rxn10126_c0.upper_bound = 0\n",
    "model_rhoda.reactions.rxn10126_c0.upper_bound = 0"
   ]
  },
  {
   "cell_type": "code",
   "execution_count": 7,
   "id": "8de3a3e6-d168-4fc6-b6fc-7f15ffc83dfd",
   "metadata": {
    "tags": []
   },
   "outputs": [],
   "source": [
    "df_growth_data_r12 = pd.read_csv('./data/growth_data_R12.tsv', sep='\\t')\n",
    "df_growth_data_3h11 = pd.read_csv('./data/growth_data_3H11.tsv', sep='\\t')"
   ]
  },
  {
   "cell_type": "code",
   "execution_count": 29,
   "id": "347e14e1-027a-440a-a229-2908f7b60a27",
   "metadata": {
    "tags": []
   },
   "outputs": [],
   "source": [
    "exp_data_3h11 = {\n",
    "    'time_total': 71,\n",
    "    'ac_uptake': -1.7762543,\n",
    "    'growth_OD': 0.07776,\n",
    "    'OD_coeff': 0.006,\n",
    "    'no3_uptake': -9.00923926\n",
    "}\n",
    "exp_data_r12 = {\n",
    "    'time_total': 336,\n",
    "    'ac_uptake': -5.4139872,\n",
    "    'growth_OD': 0.40074,\n",
    "    'OD_coeff': 0.008,\n",
    "    'no3_uptake': -9.03407482\n",
    "}"
   ]
  },
  {
   "cell_type": "code",
   "execution_count": 9,
   "id": "a340db4e-4ab3-4bcc-9eb2-350eaba52ab3",
   "metadata": {
    "tags": []
   },
   "outputs": [],
   "source": [
    "_od_to_biomass_coeff = exp_data_r12['OD_coeff']\n",
    "_model = model_rhoda\n",
    "_data = df_growth_data_r12.to_dict()"
   ]
  },
  {
   "cell_type": "code",
   "execution_count": 12,
   "id": "663e0d21-6e76-40a0-a966-9e993193dd7e",
   "metadata": {
    "tags": []
   },
   "outputs": [
    {
     "data": {
      "text/plain": [
       "(11, 6)"
      ]
     },
     "execution_count": 12,
     "metadata": {},
     "output_type": "execute_result"
    }
   ],
   "source": [
    "len(df_growth_data_r12), len(_data)"
   ]
  },
  {
   "cell_type": "code",
   "execution_count": 17,
   "id": "659a8776-74ac-49b3-a039-e36f12d74782",
   "metadata": {
    "tags": []
   },
   "outputs": [
    {
     "data": {
      "text/plain": [
       "11"
      ]
     },
     "execution_count": 17,
     "metadata": {},
     "output_type": "execute_result"
    }
   ],
   "source": [
    "len(_data['time'])"
   ]
  },
  {
   "cell_type": "code",
   "execution_count": 24,
   "id": "eac6d4d1-f46b-43db-935c-a7c155b456c6",
   "metadata": {
    "tags": []
   },
   "outputs": [],
   "source": [
    "model_rhoda.reactions.EX_cpd00528_e0.upper_bound = 0"
   ]
  },
  {
   "cell_type": "code",
   "execution_count": 30,
   "id": "a0826093-a819-4b11-93ea-46cd7ce608bd",
   "metadata": {
    "tags": []
   },
   "outputs": [],
   "source": [
    "_od_to_biomass_coeff = exp_data_3h11['OD_coeff']\n",
    "_model = model_acido\n",
    "_data = df_growth_data_3h11.to_dict()"
   ]
  },
  {
   "cell_type": "code",
   "execution_count": 31,
   "id": "c5be4ea6-5d42-464b-88cd-c1f879f90f98",
   "metadata": {
    "tags": []
   },
   "outputs": [
    {
     "name": "stdout",
     "output_type": "stream",
     "text": [
      "0 1\n",
      "0 23\n",
      "18.0313603 17.8153092 -0.009393526086956427\n",
      "9.14450462 7.89058453 -0.05451826478260867\n",
      "0.01013 0.03307 0.0009973913043478263 5.984347826086957e-06\n",
      "error biomass: 0.0 AC 8.377585549782597e-05 NO3 0.00291744891778715\n",
      "error biomass: 0.0 AC 4.286198126811034e-18 NO3 0.0003028414818080274\n",
      "0.04233109075028085\n",
      "\n",
      "1 2\n",
      "23 42\n",
      "17.8153092 16.0726961 -0.09171647894736841\n",
      "7.89058453 1.35000045 -0.3442412673684211\n",
      "0.03307 0.06107 0.0014736842105263156 8.842105263157893e-06\n",
      "error biomass: 0.0 AC 0.008346812251707709 NO3 0.11798896756119623\n",
      "error biomass: 0.0 AC 3.009022641733296e-05 NO3 0.0\n",
      "0.39716200220923764\n",
      "\n",
      "2 3\n",
      "42 53\n",
      "16.0726961 15.9261701 -0.01332054545454559\n",
      "1.35000045 0.12091592 -0.11173495727272727\n",
      "0.06107 0.07075 0.0008799999999999995 5.279999999999997e-06\n",
      "error biomass: 0.0 AC 0.000171826323308037 NO3 0.012385358775833365\n",
      "error biomass: 0.0 AC 8.3415402669387935e-19 NO3 0.0034640789795323287\n",
      "0.06062553509350305\n",
      "\n",
      "3 4\n",
      "4 5\n"
     ]
    }
   ],
   "source": [
    "solutions_bio = []\n",
    "solutions_atp = {}\n",
    "\n",
    "for i in range(len(_data['time']) - 1):\n",
    "    print(i, i+1)\n",
    "    _t0 = _data['time'][i]\n",
    "    _t1 = _data['time'][i + 1]\n",
    "    _t = _t1 - _t0\n",
    "    _ac0 = _data['Acetate'][i]\n",
    "    _ac1 = _data['Acetate'][i + 1]\n",
    "    \n",
    "    _od600_0 = _data['OD600'][i]\n",
    "    _od600_1 = _data['OD600'][i + 1]\n",
    "    \n",
    "    _no3_0 = _data['NO3'][i]\n",
    "    _no3_1 = _data['NO3'][i + 1]\n",
    "    \n",
    "    _ac_uptake = (_ac1 - _ac0) / _t\n",
    "    _no3_uptake = (_no3_1 - _no3_0) / _t\n",
    "    _od600_change = (_od600_1 - _od600_0) / _t\n",
    "    _biomass_change = _od600_change * _od_to_biomass_coeff\n",
    "    \n",
    "    if _ac_uptake < 0 and _no3_uptake < 0:\n",
    "    \n",
    "        print(_t0, _t1)\n",
    "        print(_ac0, _ac1, _ac_uptake)\n",
    "        print(_no3_0, _no3_1, _no3_uptake)\n",
    "        print(_od600_0, _od600_1, _od600_change, _biomass_change)\n",
    "        \n",
    "        _model.objective = 'bio1'\n",
    "        _model.reactions.EX_cpd00209_e0.lower_bound = _no3_uptake\n",
    "        _model.reactions.EX_cpd00029_e0.lower_bound = _ac_uptake\n",
    "        _model.reactions.bio1.lower_bound = 0\n",
    "        _model.reactions.bio1.upper_bound = _biomass_change\n",
    "\n",
    "        sol_bio = cobra.flux_analysis.pfba(_model)\n",
    "        solutions_bio.append(sol_bio)\n",
    "\n",
    "        _biomass_err = (_biomass_change - sol_bio.fluxes['bio1']) ** 2\n",
    "        _ac_err = (_ac_uptake - sol_bio.fluxes['EX_cpd00029_e0']) ** 2\n",
    "        _no3_err = (_no3_uptake - sol_bio.fluxes['EX_cpd00209_e0']) ** 2\n",
    "        \n",
    "\n",
    "        print('error biomass:', _biomass_err, 'AC', _ac_err, 'NO3', _no3_err)\n",
    "        \n",
    "        _model.objective = 'ATPM_c0'\n",
    "        _model.reactions.bio1.lower_bound = _biomass_change\n",
    "        _model.reactions.bio1.upper_bound = _biomass_change\n",
    "        \n",
    "        sol_atp = cobra.flux_analysis.pfba(_model)\n",
    "        solutions_atp[(_t0, _t1)] = sol_atp\n",
    "        \n",
    "        _biomass_err = (_biomass_change - sol_atp.fluxes['bio1']) ** 2\n",
    "        _ac_err = (_ac_uptake - sol_atp.fluxes['EX_cpd00029_e0']) ** 2\n",
    "        _no3_err = (_no3_uptake - sol_atp.fluxes['EX_cpd00209_e0']) ** 2\n",
    "        \n",
    "\n",
    "        print('error biomass:', _biomass_err, 'AC', _ac_err, 'NO3', _no3_err)\n",
    "        print(sol_atp.fluxes['ATPM_c0'])\n",
    "        print()"
   ]
  },
  {
   "cell_type": "code",
   "execution_count": 32,
   "id": "10cc3930-5438-4228-9226-0916fd5884e9",
   "metadata": {
    "tags": []
   },
   "outputs": [
    {
     "data": {
      "text/plain": [
       "dict_keys(['time', 'Acetate', 'OD600', 'NO3', 'NO2', 'N2O', 'biomass'])"
      ]
     },
     "execution_count": 32,
     "metadata": {},
     "output_type": "execute_result"
    }
   ],
   "source": [
    "def generate_total_acc_data(solutions, capture, base_values=None):\n",
    "    if base_values is None:\n",
    "        base_values = {}\n",
    "    df_res = {k: [] for k in capture}\n",
    "    df_res['time'] = []\n",
    "    arr_acc = {k: base_values.get(k, 0) for k in capture}\n",
    "    \n",
    "    for (_t0, _t1), sol in solutions.items():\n",
    "        time = _t0\n",
    "        _t = _t1 - _t0\n",
    "        for time_step in range(_t):\n",
    "            for alias, rxn_id in capture.items():\n",
    "                df_res[alias].append(arr_acc[alias])\n",
    "                arr_acc[alias] += sol.fluxes[rxn_id]\n",
    "            df_res['time'].append(time)\n",
    "            time += 1\n",
    "    \n",
    "    return df_res\n",
    "capture = {\n",
    "    'biomass': 'bio1',\n",
    "    'acetate': 'EX_cpd00029_e0',\n",
    "    'no3': 'EX_cpd00209_e0',\n",
    "    'no2': 'EX_cpd00075_e0',\n",
    "    'n2o': 'EX_cpd00659_e0',\n",
    "    'no': 'EX_cpd00418_e0',\n",
    "    'n2': 'EX_cpd00528_e0',\n",
    "}\n",
    "base_values = {\n",
    "    'biomass': 0.01093 * _od_to_biomass_coeff,\n",
    "    'acetate': 18.0313603,\n",
    "    'no3': 9.14450462,\n",
    "}\n",
    "_data_pred = generate_total_acc_data(solutions_atp, capture, base_values)\n",
    "_data_exp = {k: list(v.values()) for k, v in _data.items()}\n",
    "_data_exp['biomass'] = [x * _od_to_biomass_coeff for x in _data_exp['OD600']]\n",
    "_data_exp.keys()"
   ]
  },
  {
   "cell_type": "code",
   "execution_count": 33,
   "id": "9c54a3a6-7b1d-4aff-8e22-f438453eb6ac",
   "metadata": {
    "tags": []
   },
   "outputs": [
    {
     "data": {
      "image/png": "[encoded data removed]",
      "text/plain": [
       "<Figure size 2570x827 with 2 Axes>"
      ]
     },
     "metadata": {},
     "output_type": "display_data"
    }
   ],
   "source": [
    "import matplotlib.patches as mpatches\n",
    "import matplotlib.pyplot as plt\n",
    "import seaborn as sns\n",
    "\n",
    "color_acetate = 'black'\n",
    "color_no3 = 'blue'\n",
    "color_no2 = 'green'\n",
    "color_n2o = 'purple'\n",
    "color_no = 'orange'\n",
    "color_n2 = 'cyan'\n",
    "\n",
    "fig, ax = plt.subplots()\n",
    "ax2 = ax.twinx()\n",
    "fig.set_size_inches(25.7, 8.27)\n",
    "\n",
    "\n",
    "sns.lineplot(data=_data_pred, x='time', y='biomass', ax=ax2, color='sienna')\n",
    "sns.scatterplot(data=_data_exp, x='time', y='biomass', ax=ax2, color='sienna')\n",
    "\n",
    "sns.lineplot(data=_data_pred, x='time', y='acetate', ax=ax, color=color_acetate)\n",
    "sns.scatterplot(data=_data_exp, x='time', y='Acetate', ax=ax, color=color_acetate)\n",
    "sns.lineplot(data=_data_pred, x='time', y='no3', ax=ax, color=color_no3)\n",
    "sns.scatterplot(data=_data_exp, x='time', y='NO3', ax=ax, color=color_no3)\n",
    "sns.lineplot(data=_data_pred, x='time', y='no2', ax=ax, color=color_no2)\n",
    "sns.scatterplot(data=_data_exp, x='time', y='NO2', ax=ax, color=color_no2)\n",
    "sns.lineplot(data=_data_pred, x='time', y='n2o', ax=ax, color=color_n2o)\n",
    "sns.scatterplot(data=_data_exp, x='time', y='N2O', ax=ax, color=color_n2o)\n",
    "\n",
    "sns.lineplot(data=_data_pred, x='time', y='no', ax=ax, color=color_no)\n",
    "sns.lineplot(data=_data_pred, x='time', y='n2', ax=ax, color=color_n2)\n",
    "\n",
    "plt.legend(handles=[\n",
    "    mpatches.Patch(color=color_acetate, label='Acetate'),\n",
    "    mpatches.Patch(color=color_no3, label='NO3'),\n",
    "    mpatches.Patch(color=color_no2, label='NO2'),\n",
    "    mpatches.Patch(color=color_no, label='NO'),\n",
    "    mpatches.Patch(color=color_n2o, label='N2O'),\n",
    "    mpatches.Patch(color=color_n2, label='N2'),\n",
    "    mpatches.Patch(label='Dot experimental values', facecolor=None, color='white'),\n",
    "    mpatches.Patch(edgecolor='sienna', label='Biomass', facecolor='white'),\n",
    "        ])\n",
    "ax.set_title('Concentration')\n",
    "ax.set_xlabel('Time')\n",
    "ax.set_ylabel('mM')\n",
    "ax2.set_ylabel('gDW')\n",
    "sns.despine(fig, ax)\n",
    "\n"
   ]
  },
  {
   "cell_type": "code",
   "execution_count": null,
   "id": "8ba96642-3532-46a3-b3f9-d3e3dd9c349a",
   "metadata": {
    "tags": []
   },
   "outputs": [],
   "source": []
  },
  {
   "cell_type": "code",
   "execution_count": null,
   "id": "3d5e20aa-5df0-4aae-933c-4bf353338a4f",
   "metadata": {
    "tags": []
   },
   "outputs": [],
   "source": []
  },
  {
   "cell_type": "code",
   "execution_count": 139,
   "id": "c5875ea6-6601-42b9-8d28-48c708e617b6",
   "metadata": {
    "tags": []
   },
   "outputs": [
    {
     "data": {
      "text/plain": [
       "[0.0,\n",
       " 0.01533133,\n",
       " 0.00761067,\n",
       " 0.31666667,\n",
       " 0.53458002,\n",
       " 1.81498113,\n",
       " 3.74049231,\n",
       " 4.16233813,\n",
       " 4.30058155,\n",
       " 4.2472569,\n",
       " 4.10212792]"
      ]
     },
     "execution_count": 139,
     "metadata": {},
     "output_type": "execute_result"
    }
   ],
   "source": [
    "_data_plot['N2O']"
   ]
  },
  {
   "cell_type": "code",
   "execution_count": 127,
   "id": "ab92a35b-41c9-4cf7-8cdc-bc1c8a78c05d",
   "metadata": {
    "tags": []
   },
   "outputs": [],
   "source": []
  },
  {
   "cell_type": "code",
   "execution_count": 142,
   "id": "76cb7dd1-c859-4862-a24b-cf6654b13845",
   "metadata": {
    "tags": []
   },
   "outputs": [
    {
     "data": {
      "text/html": [
       "<h3>Objective</h3><p>1.0 ATPM_c0 = 0.023457961273254384</p><h4>Uptake</h4><table border=\"1\" class=\"dataframe\">\n",
       "  <thead>\n",
       "    <tr style=\"text-align: right;\">\n",
       "      <th>Metabolite</th>\n",
       "      <th>Reaction</th>\n",
       "      <th>Flux</th>\n",
       "      <th>C-Number</th>\n",
       "      <th>C-Flux</th>\n",
       "    </tr>\n",
       "  </thead>\n",
       "  <tbody>\n",
       "    <tr>\n",
       "      <td>cpd00009_e0</td>\n",
       "      <td>EX_cpd00009_e0</td>\n",
       "      <td>1.546E-06</td>\n",
       "      <td>0</td>\n",
       "      <td>0.00%</td>\n",
       "    </tr>\n",
       "    <tr>\n",
       "      <td>cpd00013_e0</td>\n",
       "      <td>EX_cpd00013_e0</td>\n",
       "      <td>2.189E-05</td>\n",
       "      <td>0</td>\n",
       "      <td>0.00%</td>\n",
       "    </tr>\n",
       "    <tr>\n",
       "      <td>cpd00029_e0</td>\n",
       "      <td>EX_cpd00029_e0</td>\n",
       "      <td>0.009082</td>\n",
       "      <td>2</td>\n",
       "      <td>100.00%</td>\n",
       "    </tr>\n",
       "    <tr>\n",
       "      <td>cpd00048_e0</td>\n",
       "      <td>EX_cpd00048_e0</td>\n",
       "      <td>5.83E-07</td>\n",
       "      <td>0</td>\n",
       "      <td>0.00%</td>\n",
       "    </tr>\n",
       "    <tr>\n",
       "      <td>cpd00067_e0</td>\n",
       "      <td>EX_cpd00067_e0</td>\n",
       "      <td>0.02352</td>\n",
       "      <td>0</td>\n",
       "      <td>0.00%</td>\n",
       "    </tr>\n",
       "    <tr>\n",
       "      <td>cpd00209_e0</td>\n",
       "      <td>EX_cpd00209_e0</td>\n",
       "      <td>0.01446</td>\n",
       "      <td>0</td>\n",
       "      <td>0.00%</td>\n",
       "    </tr>\n",
       "  </tbody>\n",
       "</table><h4>Secretion</h4><table border=\"1\" class=\"dataframe\">\n",
       "  <thead>\n",
       "    <tr style=\"text-align: right;\">\n",
       "      <th>Metabolite</th>\n",
       "      <th>Reaction</th>\n",
       "      <th>Flux</th>\n",
       "      <th>C-Number</th>\n",
       "      <th>C-Flux</th>\n",
       "    </tr>\n",
       "  </thead>\n",
       "  <tbody>\n",
       "    <tr>\n",
       "      <td>cpd00001_e0</td>\n",
       "      <td>EX_cpd00001_e0</td>\n",
       "      <td>-0.02536</td>\n",
       "      <td>0</td>\n",
       "      <td>0.00%</td>\n",
       "    </tr>\n",
       "    <tr>\n",
       "      <td>cpd00011_e0</td>\n",
       "      <td>EX_cpd00011_e0</td>\n",
       "      <td>-0.01808</td>\n",
       "      <td>1</td>\n",
       "      <td>100.00%</td>\n",
       "    </tr>\n",
       "    <tr>\n",
       "      <td>cpd00528_e0</td>\n",
       "      <td>EX_cpd00528_e0</td>\n",
       "      <td>-0.00723</td>\n",
       "      <td>0</td>\n",
       "      <td>0.00%</td>\n",
       "    </tr>\n",
       "    <tr>\n",
       "      <td>cpd11416_c0</td>\n",
       "      <td>SK_cpd11416_c0</td>\n",
       "      <td>-2.891E-06</td>\n",
       "      <td>0</td>\n",
       "      <td>0.00%</td>\n",
       "    </tr>\n",
       "  </tbody>\n",
       "</table>"
      ],
      "text/plain": [
       "<cobra.summary.model_summary.ModelSummary at 0x7efeac10a860>"
      ]
     },
     "execution_count": 142,
     "metadata": {},
     "output_type": "execute_result"
    }
   ],
   "source": [
    "_model.summary(sol_atp)"
   ]
  },
  {
   "cell_type": "code",
   "execution_count": null,
   "id": "e6a1f8f9-f53f-4a88-8839-d2385fa11151",
   "metadata": {
    "tags": []
   },
   "outputs": [],
   "source": []
  },
  {
   "cell_type": "code",
   "execution_count": 51,
   "id": "3f86a816-ff35-4b1c-8fb6-13770eb42561",
   "metadata": {
    "tags": []
   },
   "outputs": [],
   "source": []
  },
  {
   "cell_type": "code",
   "execution_count": null,
   "id": "a0fa3ef3-aa99-4c11-b989-0053227f01ed",
   "metadata": {
    "tags": []
   },
   "outputs": [],
   "source": []
  },
  {
   "cell_type": "code",
   "execution_count": 45,
   "id": "46a9552c-3326-472e-a4cf-1c8d5c08a653",
   "metadata": {
    "tags": []
   },
   "outputs": [
    {
     "data": {
      "text/plain": [
       "-7.689419874397695e-05"
      ]
     },
     "execution_count": 45,
     "metadata": {},
     "output_type": "execute_result"
    }
   ],
   "source": [
    "sol.fluxes['EX_cpd00029_e0']"
   ]
  },
  {
   "cell_type": "code",
   "execution_count": 24,
   "id": "cc01cce7-a32c-49ff-9b86-b4abec45f06e",
   "metadata": {
    "tags": []
   },
   "outputs": [
    {
     "data": {
      "text/html": [
       "<div>\n",
       "<style scoped>\n",
       "    .dataframe tbody tr th:only-of-type {\n",
       "        vertical-align: middle;\n",
       "    }\n",
       "\n",
       "    .dataframe tbody tr th {\n",
       "        vertical-align: top;\n",
       "    }\n",
       "\n",
       "    .dataframe thead th {\n",
       "        text-align: right;\n",
       "    }\n",
       "</style>\n",
       "<table border=\"1\" class=\"dataframe\">\n",
       "  <thead>\n",
       "    <tr style=\"text-align: right;\">\n",
       "      <th></th>\n",
       "      <th>time</th>\n",
       "      <th>Acetate</th>\n",
       "      <th>OD600</th>\n",
       "      <th>NO3</th>\n",
       "      <th>NO2</th>\n",
       "      <th>N2O</th>\n",
       "    </tr>\n",
       "  </thead>\n",
       "  <tbody>\n",
       "    <tr>\n",
       "      <th>0</th>\n",
       "      <td>0</td>\n",
       "      <td>18.031360</td>\n",
       "      <td>0.010930</td>\n",
       "      <td>9.144505</td>\n",
       "      <td>0.099779</td>\n",
       "      <td>0.000000</td>\n",
       "    </tr>\n",
       "    <tr>\n",
       "      <th>1</th>\n",
       "      <td>23</td>\n",
       "      <td>17.790639</td>\n",
       "      <td>0.015870</td>\n",
       "      <td>8.967896</td>\n",
       "      <td>0.156697</td>\n",
       "      <td>0.015331</td>\n",
       "    </tr>\n",
       "    <tr>\n",
       "      <th>2</th>\n",
       "      <td>42</td>\n",
       "      <td>18.427579</td>\n",
       "      <td>0.020300</td>\n",
       "      <td>9.531939</td>\n",
       "      <td>0.079565</td>\n",
       "      <td>0.007611</td>\n",
       "    </tr>\n",
       "    <tr>\n",
       "      <th>3</th>\n",
       "      <td>71</td>\n",
       "      <td>18.258625</td>\n",
       "      <td>0.044930</td>\n",
       "      <td>8.649449</td>\n",
       "      <td>0.107758</td>\n",
       "      <td>0.316667</td>\n",
       "    </tr>\n",
       "    <tr>\n",
       "      <th>4</th>\n",
       "      <td>77</td>\n",
       "      <td>18.537473</td>\n",
       "      <td>0.062467</td>\n",
       "      <td>8.662695</td>\n",
       "      <td>0.094460</td>\n",
       "      <td>0.534580</td>\n",
       "    </tr>\n",
       "    <tr>\n",
       "      <th>5</th>\n",
       "      <td>95</td>\n",
       "      <td>17.321905</td>\n",
       "      <td>0.106167</td>\n",
       "      <td>7.075978</td>\n",
       "      <td>0.126908</td>\n",
       "      <td>1.814981</td>\n",
       "    </tr>\n",
       "    <tr>\n",
       "      <th>6</th>\n",
       "      <td>119</td>\n",
       "      <td>16.723092</td>\n",
       "      <td>0.171890</td>\n",
       "      <td>5.450628</td>\n",
       "      <td>0.139143</td>\n",
       "      <td>3.740492</td>\n",
       "    </tr>\n",
       "    <tr>\n",
       "      <th>7</th>\n",
       "      <td>142</td>\n",
       "      <td>16.008404</td>\n",
       "      <td>0.223500</td>\n",
       "      <td>4.374420</td>\n",
       "      <td>0.126908</td>\n",
       "      <td>4.162338</td>\n",
       "    </tr>\n",
       "    <tr>\n",
       "      <th>8</th>\n",
       "      <td>165</td>\n",
       "      <td>15.139714</td>\n",
       "      <td>0.289167</td>\n",
       "      <td>3.323048</td>\n",
       "      <td>0.124781</td>\n",
       "      <td>4.300582</td>\n",
       "    </tr>\n",
       "    <tr>\n",
       "      <th>9</th>\n",
       "      <td>216</td>\n",
       "      <td>14.235140</td>\n",
       "      <td>0.368300</td>\n",
       "      <td>1.845608</td>\n",
       "      <td>0.094460</td>\n",
       "      <td>4.247257</td>\n",
       "    </tr>\n",
       "    <tr>\n",
       "      <th>10</th>\n",
       "      <td>336</td>\n",
       "      <td>12.617373</td>\n",
       "      <td>0.411670</td>\n",
       "      <td>0.110430</td>\n",
       "      <td>0.093396</td>\n",
       "      <td>4.102128</td>\n",
       "    </tr>\n",
       "  </tbody>\n",
       "</table>\n",
       "</div>"
      ],
      "text/plain": [
       "    time    Acetate     OD600       NO3       NO2       N2O\n",
       "0      0  18.031360  0.010930  9.144505  0.099779  0.000000\n",
       "1     23  17.790639  0.015870  8.967896  0.156697  0.015331\n",
       "2     42  18.427579  0.020300  9.531939  0.079565  0.007611\n",
       "3     71  18.258625  0.044930  8.649449  0.107758  0.316667\n",
       "4     77  18.537473  0.062467  8.662695  0.094460  0.534580\n",
       "5     95  17.321905  0.106167  7.075978  0.126908  1.814981\n",
       "6    119  16.723092  0.171890  5.450628  0.139143  3.740492\n",
       "7    142  16.008404  0.223500  4.374420  0.126908  4.162338\n",
       "8    165  15.139714  0.289167  3.323048  0.124781  4.300582\n",
       "9    216  14.235140  0.368300  1.845608  0.094460  4.247257\n",
       "10   336  12.617373  0.411670  0.110430  0.093396  4.102128"
      ]
     },
     "execution_count": 24,
     "metadata": {},
     "output_type": "execute_result"
    }
   ],
   "source": [
    "df_growth_data_r12"
   ]
  },
  {
   "cell_type": "code",
   "execution_count": null,
   "id": "7604e3dd-b0cb-455b-a799-faceac9a268c",
   "metadata": {},
   "outputs": [],
   "source": []
  }
 ],
 "metadata": {
  "kernelspec": {
   "display_name": "COBRA cplex",
   "language": "python",
   "name": "modelseed_cplex"
  },
  "language_info": {
   "codemirror_mode": {
    "name": "ipython",
    "version": 3
   },
   "file_extension": ".py",
   "mimetype": "text/x-python",
   "name": "python",
   "nbconvert_exporter": "python",
   "pygments_lexer": "ipython3",
   "version": "3.10.12"
  }
 },
 "nbformat": 4,
 "nbformat_minor": 5
}
